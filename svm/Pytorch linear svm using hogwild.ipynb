{
 "cells": [
  {
   "cell_type": "code",
   "execution_count": 1,
   "metadata": {},
   "outputs": [],
   "source": [
    "import torch\n",
    "import os\n",
    "import pandas as pd\n",
    "import torch.nn as nn\n",
    "import torch.optim as optim\n",
    "from torch.autograd import Variable\n",
    "import torch.multiprocessing as mp"
   ]
  },
  {
   "cell_type": "code",
   "execution_count": 2,
   "metadata": {},
   "outputs": [],
   "source": [
    "data_path = os.path.join(os.getcwd(),\"Data\",\"iris.csv\")\n",
    "data = pd.read_csv(data_path)\n",
    "data.columns = ['sepal_length','sepal_width','petal_length','petal_width','class']"
   ]
  },
  {
   "cell_type": "code",
   "execution_count": 3,
   "metadata": {},
   "outputs": [],
   "source": [
    "Y = data[data.columns[-1]]\n",
    "X = data[data.columns[:-1]]\n",
    "X = (X-X.mean())/X.std()"
   ]
  },
  {
   "cell_type": "code",
   "execution_count": 4,
   "metadata": {},
   "outputs": [],
   "source": [
    "class LinearSVM(nn.Module):\n",
    "    \"\"\"Support Vector Machine\"\"\"\n",
    "\n",
    "    def __init__(self):\n",
    "        super(LinearSVM, self).__init__()\n",
    "        self.fc = nn.Linear(4, 1)\n",
    "\n",
    "    def forward(self, x):\n",
    "        h = self.fc(x)\n",
    "        return h"
   ]
  },
  {
   "cell_type": "code",
   "execution_count": 5,
   "metadata": {},
   "outputs": [],
   "source": [
    "def train(X, Y, model, lr=1e-6):\n",
    "    batchsize = 50\n",
    "    epoch_num = 10\n",
    "    X = torch.from_numpy(X.as_matrix()).float()\n",
    "    Y = torch.from_numpy(Y.as_matrix()).float()\n",
    "    c=1\n",
    "    N = len(Y)\n",
    "\n",
    "    optimizer = optim.SGD(model.parameters(), lr=lr)\n",
    "\n",
    "    model.train()\n",
    "    for epoch in range(epoch_num):\n",
    "        perm = torch.randperm(N)\n",
    "        sum_loss = 0\n",
    "\n",
    "        for i in range(0, N, batchsize):\n",
    "            x = X[perm[i:i + batchsize]]\n",
    "            y = Y[perm[i:i + batchsize]]\n",
    "\n",
    "            if torch.cuda.is_available():\n",
    "                x = x.cuda()\n",
    "                y = y.cuda()\n",
    "            x = Variable(x)\n",
    "            y = Variable(y)\n",
    "\n",
    "            optimizer.zero_grad()\n",
    "            output = model(x)\n",
    "            loss = torch.mean(torch.clamp(1 - output * y, min=0))  # hinge loss\n",
    "            loss += c * torch.mean(model.fc.weight**2)  # l2 penalty\n",
    "            loss.backward()\n",
    "            optimizer.step()\n",
    "\n",
    "            sum_loss += loss.data.cpu().numpy()[0]\n",
    "\n",
    "        if epoch % 1 == 0:\n",
    "            print('Epoch:{:4d}\\tloss:{}'.format(epoch, sum_loss / N))"
   ]
  },
  {
   "cell_type": "code",
   "execution_count": 6,
   "metadata": {},
   "outputs": [],
   "source": [
    "model = LinearSVM()\n",
    "num_processes = 4\n",
    "if torch.cuda.is_available():\n",
    "    model.cuda()\n",
    "model.share_memory()\n",
    "processes = []\n",
    "\n",
    "for rank in range(num_processes):\n",
    "    p = mp.Process(target=train, args=(rank, model))\n",
    "    p.start()\n",
    "    processes.append(p)\n",
    "for p in processes:\n",
    "    p.join()"
   ]
  },
  {
   "cell_type": "code",
   "execution_count": 7,
   "metadata": {},
   "outputs": [
    {
     "name": "stdout",
     "output_type": "stream",
     "text": [
      "Epoch:   0\tloss:0.01716463637832027\n",
      "Epoch:   1\tloss:0.017176984940599275\n",
      "Epoch:   2\tloss:0.01669064744206883\n",
      "Epoch:   3\tloss:0.017156691359193534\n",
      "Epoch:   4\tloss:0.017097970383279277\n",
      "Epoch:   5\tloss:0.017129824465553233\n",
      "Epoch:   6\tloss:0.017140000458531732\n",
      "Epoch:   7\tloss:0.017012238902533613\n",
      "Epoch:   8\tloss:0.01722370298116799\n",
      "Epoch:   9\tloss:0.01684927620343714\n"
     ]
    }
   ],
   "source": [
    "train(X, Y, model)"
   ]
  },
  {
   "cell_type": "code",
   "execution_count": null,
   "metadata": {},
   "outputs": [],
   "source": []
  }
 ],
 "metadata": {
  "kernelspec": {
   "display_name": "Python 3",
   "language": "python",
   "name": "python3"
  },
  "language_info": {
   "codemirror_mode": {
    "name": "ipython",
    "version": 3
   },
   "file_extension": ".py",
   "mimetype": "text/x-python",
   "name": "python",
   "nbconvert_exporter": "python",
   "pygments_lexer": "ipython3",
   "version": "3.6.4"
  }
 },
 "nbformat": 4,
 "nbformat_minor": 2
}
